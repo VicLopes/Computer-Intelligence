{
  "nbformat": 4,
  "nbformat_minor": 0,
  "metadata": {
    "colab": {
      "name": "DecisionTree.ipynb",
      "provenance": [],
      "include_colab_link": true
    },
    "kernelspec": {
      "name": "python3",
      "display_name": "Python 3"
    }
  },
  "cells": [
    {
      "cell_type": "markdown",
      "metadata": {
        "id": "view-in-github",
        "colab_type": "text"
      },
      "source": [
        "<a href=\"https://colab.research.google.com/github/VicLopes/Computer-Intelligence/blob/main/DecisionTree.ipynb\" target=\"_parent\"><img src=\"https://colab.research.google.com/assets/colab-badge.svg\" alt=\"Open In Colab\"/></a>"
      ]
    },
    {
      "cell_type": "markdown",
      "metadata": {
        "id": "fm0ZYu_QHztw"
      },
      "source": [
        "# Importing libraries & MNIST"
      ]
    },
    {
      "cell_type": "code",
      "metadata": {
        "id": "z4v2BKgVsBrT"
      },
      "source": [
        "import numpy as np\n",
        "import pandas as pd # I/O de arquivos CSV\n",
        "from sklearn import metrics\n",
        "from sklearn.model_selection import train_test_split\n",
        "from sklearn.tree import DecisionTreeClassifier\n",
        "from sklearn.datasets import fetch_openml"
      ],
      "execution_count": null,
      "outputs": []
    },
    {
      "cell_type": "markdown",
      "metadata": {
        "id": "YXEp2lCVHjmH"
      },
      "source": [
        "# Data Preprocessing"
      ]
    },
    {
      "cell_type": "code",
      "metadata": {
        "id": "jpdXsZx0HyRl",
        "colab": {
          "base_uri": "https://localhost:8080/"
        },
        "outputId": "3e32993c-8578-47da-8ea0-95e596b06e23"
      },
      "source": [
        "mnist = fetch_openml('mnist_784', version=1)\n",
        " \n",
        "x = mnist[\"data\"] \n",
        "y = mnist[\"target\"]\n",
        "test_x = []\n",
        "print(x.shape)\n"
      ],
      "execution_count": null,
      "outputs": [
        {
          "output_type": "stream",
          "text": [
            "(70000, 784)\n"
          ],
          "name": "stdout"
        }
      ]
    },
    {
      "cell_type": "code",
      "metadata": {
        "id": "WTw_O2E3ISpS",
        "colab": {
          "base_uri": "https://localhost:8080/"
        },
        "outputId": "33e5535b-3537-47a9-c37a-fef3653a20d7"
      },
      "source": [
        "for row in x:\n",
        "  image = list(row) # Organizes images into a list\n",
        "  image = np.array(image) / 255\n",
        "  test_x.append(image)\n",
        "x_train, x_test, y_train, y_test = train_test_split(x, y, test_size=0.85, random_state=0)\n",
        "test_x = np.array(test_x)\n",
        "classifier = DecisionTreeClassifier()\n",
        "classifier = classifier.fit(x_train,y_train)\n",
        "y_pred = classifier.predict(x_test)\n",
        "print(metrics.accuracy_score(y_test, y_pred))"
      ],
      "execution_count": null,
      "outputs": [
        {
          "output_type": "stream",
          "text": [
            "0.8109411764705883\n"
          ],
          "name": "stdout"
        }
      ]
    },
    {
      "cell_type": "markdown",
      "metadata": {
        "id": "dkTpHgM2ItCU"
      },
      "source": [
        "# Classification"
      ]
    },
    {
      "cell_type": "code",
      "metadata": {
        "id": "hgYSJluI2I1Y",
        "colab": {
          "base_uri": "https://localhost:8080/"
        },
        "outputId": "5fc95d77-2357-48c4-8c78-52806ba2adf8"
      },
      "source": [
        "from scipy.stats import randint\n",
        "from sklearn.model_selection import RandomizedSearchCV\n",
        "\n",
        "# Parameter distribution configuration\n",
        "param_dist = {\"max_depth\": randint(3,80),\n",
        "              \"min_samples_leaf\": randint(1, 50),\n",
        "              \"criterion\": [\"gini\", \"entropy\"]}\n",
        "\n",
        "# Initiates a Decision Tree Classifier\n",
        "tree = DecisionTreeClassifier()\n",
        "# Instantiate RandomizedSearch object, tree_random\n",
        "tree_random = RandomizedSearchCV(tree, param_dist)\n",
        "# Fit it on the data\n",
        "tree_random.fit(x, y)\n",
        "\n",
        "# Print the tuned parameters and score\n",
        "print(\"Best Decision Tree Parameters post-tuning: {}\".format(tree_random.best_params_))\n",
        "print(\"Best score was {}\".format(tree_random.best_score_))"
      ],
      "execution_count": null,
      "outputs": [
        {
          "output_type": "stream",
          "text": [
            "Best Decision Tree Parameters post-tuning: {'criterion': 'gini', 'max_depth': 45, 'min_samples_leaf': 10}\n",
            "Best score was 0.8684714285714286\n"
          ],
          "name": "stdout"
        }
      ]
    },
    {
      "cell_type": "markdown",
      "metadata": {
        "id": "X5cO4kL9KPJ-"
      },
      "source": [
        "Metrics using parameters from snippet above"
      ]
    },
    {
      "cell_type": "code",
      "metadata": {
        "id": "aMaH9DidJMeJ",
        "colab": {
          "base_uri": "https://localhost:8080/"
        },
        "outputId": "2b9267db-db45-4dbd-c3a7-e224b6fbec1a"
      },
      "source": [
        "from sklearn import metrics\n",
        "\n",
        "y_pred_random = tree_random.predict(x_test)\n",
        "\n",
        "print(\"Mean Absolute Error:\\n\\t\", metrics.mean_absolute_error(y_test, y_pred_random))\n",
        "print(\"\\nMean Squared Error:\\n\\t\", metrics.mean_squared_error(y_test, y_pred_random))\n",
        "print(\"\\nRoot Mean Squared Error:\\n\\t\", np.sqrt(metrics.mean_squared_error(y_test, y_pred_random)))\n",
        "print(\"\\nConfusion Matrix:\\n\", metrics.confusion_matrix(y_test, y_pred_random))\n",
        "print(\"\\n\\nAccuracy Score:\\n\", metrics.accuracy_score(y_test, y_pred_random))\n",
        "print(\"\\n\\nClassification Report:\\n\", metrics.classification_report(y_test, y_pred_random))"
      ],
      "execution_count": null,
      "outputs": [
        {
          "output_type": "stream",
          "text": [
            "Mean Absolute Error:\n",
            "\t 0.27260504201680674\n",
            "\n",
            "Mean Squared Error:\n",
            "\t 1.3018151260504203\n",
            "\n",
            "Root Mean Squared Error:\n",
            "\t 1.1409711328734047\n",
            "\n",
            "Confusion Matrix:\n",
            " [[5644    3   44   33   13   39   45   12   41   21]\n",
            " [   3 6540   29   23   14   17   10   24   31   12]\n",
            " [  48   42 5473   64   52   50   40   57   98   33]\n",
            " [  29   25  119 5488   32  130   20   49   87   65]\n",
            " [  15   14   62   19 5406   27   41   36   54  136]\n",
            " [  69   26   47  174   39 4816   71   27   67   53]\n",
            " [  60   27   64   21   58   79 5416    8   71   22]\n",
            " [  19   33   66   36   57   28    5 5804   44   92]\n",
            " [  37   56  102   95   71   94   57   26 5146   93]\n",
            " [  39   19   71   71  175   71   20  107   72 5270]]\n",
            "\n",
            "\n",
            "Accuracy Score:\n",
            " 0.9244201680672269\n",
            "\n",
            "\n",
            "Classification Report:\n",
            "               precision    recall  f1-score   support\n",
            "\n",
            "           0       0.95      0.96      0.95      5895\n",
            "           1       0.96      0.98      0.97      6703\n",
            "           2       0.90      0.92      0.91      5957\n",
            "           3       0.91      0.91      0.91      6044\n",
            "           4       0.91      0.93      0.92      5810\n",
            "           5       0.90      0.89      0.90      5389\n",
            "           6       0.95      0.93      0.94      5826\n",
            "           7       0.94      0.94      0.94      6184\n",
            "           8       0.90      0.89      0.90      5777\n",
            "           9       0.91      0.89      0.90      5915\n",
            "\n",
            "    accuracy                           0.92     59500\n",
            "   macro avg       0.92      0.92      0.92     59500\n",
            "weighted avg       0.92      0.92      0.92     59500\n",
            "\n"
          ],
          "name": "stdout"
        }
      ]
    },
    {
      "cell_type": "markdown",
      "metadata": {
        "id": "FYz9-zjqPeVT"
      },
      "source": [
        "For comparison purposes, here's how it'd look if RandomSearch wasn't used"
      ]
    },
    {
      "cell_type": "code",
      "metadata": {
        "id": "F7dKYKFLORID",
        "colab": {
          "base_uri": "https://localhost:8080/"
        },
        "outputId": "cae3fff0-5872-4400-9ac8-537cbb6b68e9"
      },
      "source": [
        "classifier = DecisionTreeClassifier(criterion='gini', max_depth=45, min_samples_leaf=10)\n",
        "classifier = classifier.fit(x_train, y_train)\n",
        "y_pred = classifier.predict(x_test)\n",
        "\n",
        "print(\"Mean Absolute Error:\\n\\t\", metrics.mean_absolute_error(y_test, y_pred))\n",
        "print(\"\\nMean Squared Error:\\n\\t\", metrics.mean_squared_error(y_test, y_pred))\n",
        "print(\"\\nRoot Mean Squared Error:\\n\\t\", np.sqrt(metrics.mean_squared_error(y_test, y_pred)))\n",
        "print(\"\\nConfusion Matrix:\\n\", metrics.confusion_matrix(y_test, y_pred))\n",
        "print(\"\\n\\nAccuracy Score:\\n\", metrics.accuracy_score(y_test, y_pred))\n",
        "print(\"\\n\\nClassification Report:\\n\", metrics.classification_report(y_test, y_pred))"
      ],
      "execution_count": null,
      "outputs": [
        {
          "output_type": "stream",
          "text": [
            "Mean Absolute Error:\n",
            "\t 0.7060840336134454\n",
            "\n",
            "Mean Squared Error:\n",
            "\t 3.312705882352941\n",
            "\n",
            "Root Mean Squared Error:\n",
            "\t 1.8200840316735216\n",
            "\n",
            "Confusion Matrix:\n",
            " [[5152    7   49  108   76  156   81   82  167   17]\n",
            " [   2 6205  105   87   56   24   18   79  109   18]\n",
            " [ 145  180 4486  193  139  114  187  191  256   66]\n",
            " [ 170   79  239 4437   78  369  100  140  242  190]\n",
            " [  36   30  100   86 4716  122  151  111  191  267]\n",
            " [ 131  146  146  378   89 3888  193   91  194  133]\n",
            " [ 144   58  213   95  118  165 4810   35  175   13]\n",
            " [  63   55  163  109  118   98   17 5276   80  205]\n",
            " [ 111  234  142  294  115  214  106   81 4262  218]\n",
            " [  81   25   48  165  401  183   47  343  155 4467]]\n",
            "\n",
            "\n",
            "Accuracy Score:\n",
            " 0.8016638655462185\n",
            "\n",
            "\n",
            "Classification Report:\n",
            "               precision    recall  f1-score   support\n",
            "\n",
            "           0       0.85      0.87      0.86      5895\n",
            "           1       0.88      0.93      0.90      6703\n",
            "           2       0.79      0.75      0.77      5957\n",
            "           3       0.75      0.73      0.74      6044\n",
            "           4       0.80      0.81      0.81      5810\n",
            "           5       0.73      0.72      0.73      5389\n",
            "           6       0.84      0.83      0.83      5826\n",
            "           7       0.82      0.85      0.84      6184\n",
            "           8       0.73      0.74      0.73      5777\n",
            "           9       0.80      0.76      0.78      5915\n",
            "\n",
            "    accuracy                           0.80     59500\n",
            "   macro avg       0.80      0.80      0.80     59500\n",
            "weighted avg       0.80      0.80      0.80     59500\n",
            "\n"
          ],
          "name": "stdout"
        }
      ]
    }
  ]
}