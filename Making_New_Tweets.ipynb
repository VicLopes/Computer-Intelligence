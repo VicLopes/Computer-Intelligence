{
  "nbformat": 4,
  "nbformat_minor": 0,
  "metadata": {
    "colab": {
      "name": "TrabalhoFinal_IC.ipynb",
      "provenance": [],
      "collapsed_sections": [],
      "toc_visible": true,
      "include_colab_link": true
    },
    "kernelspec": {
      "name": "python3",
      "display_name": "Python 3"
    }
  },
  "cells": [
    {
      "cell_type": "markdown",
      "metadata": {
        "id": "view-in-github",
        "colab_type": "text"
      },
      "source": [
        "<a href=\"https://colab.research.google.com/github/VicLopes/Computer-Intelligence/blob/main/Making_New_Tweets.ipynb\" target=\"_parent\"><img src=\"https://colab.research.google.com/assets/colab-badge.svg\" alt=\"Open In Colab\"/></a>"
      ]
    },
    {
      "cell_type": "markdown",
      "metadata": {
        "id": "UzdOK8QHVqFc"
      },
      "source": [
        "# Configuração\n",
        "\n",
        "* Importando bibliotecas\n"
      ]
    },
    {
      "cell_type": "code",
      "metadata": {
        "id": "4EYCrfT1T1fc"
      },
      "source": [
        "#Instrumentos para análise de dados\n",
        "import os\n",
        "import numpy as np\n",
        "import matplotlib.pyplot as plt\n",
        "import pandas as pd\n",
        "import tensorflow as tf\n",
        "import itertools\n",
        "import collections\n",
        "import tensorflow_hub as hub\n",
        "from tensorflow.keras.preprocessing.sequence import pad_sequences\n",
        "from tensorflow.keras.layers import Embedding, LSTM, Dense, Dropout, Bidirectional\n",
        "from tensorflow.keras.preprocessing.text import Tokenizer\n",
        "from tensorflow.keras.models import Sequential\n",
        "from tensorflow.keras.optimizers import Adam\n",
        "from tensorflow.keras import regularizers\n",
        "import tensorflow.keras.utils as ku \n",
        "\n",
        "#Instrumentos para análise de texto\n",
        "import tweepy as tw\n",
        "import nltk\n",
        "from nltk import bigrams\n",
        "from nltk.corpus import stopwords\n",
        "import re\n",
        "import networkx as nx\n",
        "from textblob import TextBlob"
      ],
      "execution_count": null,
      "outputs": []
    },
    {
      "cell_type": "markdown",
      "metadata": {
        "id": "eJPWhAarb8Bx"
      },
      "source": [
        "* Chaves e autorização da API do Twitter, utilizado para interagir com a plataforma\n",
        "* Estas chaves são referentes à conta @feliperubeen"
      ]
    },
    {
      "cell_type": "code",
      "metadata": {
        "id": "CeBnlxNkb7jf"
      },
      "source": [
        "consumer_key = 'qnP8Cy97bhQT6gdblR8KpVlBm'\n",
        "consumer_secret = 'pCSejqwTRhTeByxfV8VnjG2j0Fe6R5kgBkDRnepabM9scoqJNI'\n",
        "access_token = '2180302805-vQFy2XiXA9yPeKYqj5gnBaTjO8Z3iWwyXFQOYi5'\n",
        "access_token_secret = 'pNmZuHlGxqYDvLOlGbXtIhcv9YFY8LKU6JiT1lAR28j4K'\n",
        "\n",
        "auth = tw.OAuthHandler(consumer_key, consumer_secret)\n",
        "auth.set_access_token(access_token, access_token_secret)\n",
        "api = tw.API(auth, wait_on_rate_limit=True)"
      ],
      "execution_count": null,
      "outputs": []
    },
    {
      "cell_type": "markdown",
      "metadata": {
        "id": "BUnO6LbwTSyI"
      },
      "source": [
        "# Obtenção dos dados\n",
        "O input insere o termo de busca desejado, removendo-se os retweets. É possível complementar com mais opções, de acordo com a guia do [API do Twitter](https://developer.twitter.com/en/docs/twitter-api/v1/rules-and-filtering/search-operators).\n",
        "\n",
        "*   Por enquanto, utilizam-se apenas os 1000 primeiros itens obtidos como exemplo\n",
        "*   Opta-se também pelo uso da linguagem em inglês, visto que as ferramentas de tratamento de texto possuem melhor compatibilidade com esta e a maior parte dos tweets são em inglês\n",
        "*   A data fim da busca pode ser alterada hardcoded na variável \"data_since\""
      ]
    },
    {
      "cell_type": "code",
      "metadata": {
        "id": "psb2TqlfS4qX",
        "colab": {
          "base_uri": "https://localhost:8080/"
        },
        "outputId": "d9ed67da-e0ab-4765-cc9d-72535c77edca"
      },
      "source": [
        "print(\"Insira o tema a ser pesquisado:\")\n",
        "search_word = input() \n",
        "search_words = search_word+ \"-filter:retweets\"\n",
        "date_since = \"2019-01-01\"\n",
        "\n",
        "tweets = tw.Cursor(api.search, \n",
        "                           q=search_words,\n",
        "                           lang=\"en\",\n",
        "                           since=date_since).items(4000)\n",
        "\n",
        "pd.options.display.max_colwidth = 150"
      ],
      "execution_count": null,
      "outputs": [
        {
          "output_type": "stream",
          "text": [
            "Insira o tema a ser pesquisado:\n",
            "overwatch\n"
          ],
          "name": "stdout"
        }
      ]
    },
    {
      "cell_type": "markdown",
      "metadata": {
        "id": "tdF56BEXl0o_"
      },
      "source": [
        "---\n",
        "# Filtragem dos dados\n",
        "Como toda rede social, o Twitter possui uma linguagem diferenciada da norma padrão, além de utilizar de maneira constante emojis, links ou similares. Portanto, é necessário tratar os dados para que estes sejam excluídos e não contabilizados na relação.\n"
      ]
    },
    {
      "cell_type": "markdown",
      "metadata": {
        "id": "hSyB87JeojFd"
      },
      "source": [
        "Para remover URLs, utiliza-se uma função que roda uma regex que irá substituir toda URL por uma string vazia (`\"\"`)"
      ]
    },
    {
      "cell_type": "code",
      "metadata": {
        "id": "FYJTmatGo6dY"
      },
      "source": [
        "#  def remove_url(txt):\n",
        "#    return \" \".join(re.sub(\"([^0-9A-Za-z \\t])|(\\w+:\\/\\/\\S+)\", \"\", txt).split())\n",
        "    \n",
        "def remove_url(txt):\n",
        "    url_pattern = re.compile(r'https?://\\S+|www\\.\\S+')\n",
        "    no_url = url_pattern.sub(r'', txt)\n",
        "\n",
        "    return no_url"
      ],
      "execution_count": null,
      "outputs": []
    },
    {
      "cell_type": "markdown",
      "metadata": {
        "id": "D40AUIHxKGWs"
      },
      "source": [
        "Após estabelecer a função, gera-se o dataset com o texto dos tweets."
      ]
    },
    {
      "cell_type": "code",
      "metadata": {
        "id": "vYWV2_bKKFhO",
        "colab": {
          "base_uri": "https://localhost:8080/"
        },
        "outputId": "59e44f3d-8fd8-47cd-f63a-f87afc6a3bd4"
      },
      "source": [
        "# Remove URLs\n",
        "tweets_no_urls = [remove_url(tweet.text) for tweet in tweets]\n",
        "\n",
        "# Create a sublist of lower case words for each tweet\n",
        "words_in_tweet = [tweet.lower().split() for tweet in tweets_no_urls]\n",
        "\n",
        "# Download stopwords\n",
        "nltk.download('stopwords')\n",
        "stop_words = set(stopwords.words('english'))\n",
        "\n",
        "# Remove stop words from each tweet list of words\n",
        "tweets_nsw = [[word for word in tweet_words if not word in stop_words]\n",
        "              for tweet_words in words_in_tweet]\n",
        "\n",
        "# Remove collection words\n",
        "collection_words = ['climatechange', 'climate', 'change']\n",
        "\n",
        "tweets_nsw_nc = [[w for w in word if not w in collection_words]\n",
        "                 for word in tweets_nsw]"
      ],
      "execution_count": null,
      "outputs": [
        {
          "output_type": "stream",
          "text": [
            "[nltk_data] Downloading package stopwords to /root/nltk_data...\n",
            "[nltk_data]   Package stopwords is already up-to-date!\n"
          ],
          "name": "stdout"
        }
      ]
    },
    {
      "cell_type": "markdown",
      "metadata": {
        "id": "23Cq_bZWOk1Y"
      },
      "source": [
        "# Correlação de palavras"
      ]
    },
    {
      "cell_type": "code",
      "metadata": {
        "colab": {
          "base_uri": "https://localhost:8080/",
          "height": 677
        },
        "id": "BjAJgjueOwEl",
        "outputId": "865267b2-1fda-4168-9903-6dc6c27712d9"
      },
      "source": [
        "# Create list of lists containing bigrams in tweets\n",
        "terms_bigram = [list(bigrams(tweet)) for tweet in tweets_nsw_nc]\n",
        "\n",
        "# View bigrams for the first tweet\n",
        "terms_bigram[0]\n",
        "\n",
        "# Original tweet without URLs\n",
        "tweets_no_urls[0]\n",
        "\n",
        "# Clean tweet \n",
        "tweets_nsw_nc[0]\n",
        "\n",
        "# Flatten list of bigrams in clean tweets\n",
        "bigrams = list(itertools.chain(*terms_bigram))\n",
        "\n",
        "# Create counter of words in clean bigrams\n",
        "bigram_counts = collections.Counter(bigrams)\n",
        "\n",
        "bigram_counts.most_common(20)\n",
        "\n",
        "bigram_df = pd.DataFrame(bigram_counts.most_common(20),\n",
        "                             columns=['bigram', 'count'])\n",
        "\n",
        "bigram_df"
      ],
      "execution_count": null,
      "outputs": [
        {
          "output_type": "execute_result",
          "data": {
            "text/html": [
              "<div>\n",
              "<style scoped>\n",
              "    .dataframe tbody tr th:only-of-type {\n",
              "        vertical-align: middle;\n",
              "    }\n",
              "\n",
              "    .dataframe tbody tr th {\n",
              "        vertical-align: top;\n",
              "    }\n",
              "\n",
              "    .dataframe thead th {\n",
              "        text-align: right;\n",
              "    }\n",
              "</style>\n",
              "<table border=\"1\" class=\"dataframe\">\n",
              "  <thead>\n",
              "    <tr style=\"text-align: right;\">\n",
              "      <th></th>\n",
              "      <th>bigram</th>\n",
              "      <th>count</th>\n",
              "    </tr>\n",
              "  </thead>\n",
              "  <tbody>\n",
              "    <tr>\n",
              "      <th>0</th>\n",
              "      <td>(play, overwatch)</td>\n",
              "      <td>196</td>\n",
              "    </tr>\n",
              "    <tr>\n",
              "      <th>1</th>\n",
              "      <td>(playing, overwatch)</td>\n",
              "      <td>186</td>\n",
              "    </tr>\n",
              "    <tr>\n",
              "      <th>2</th>\n",
              "      <td>((overwatch:, origins)</td>\n",
              "      <td>97</td>\n",
              "    </tr>\n",
              "    <tr>\n",
              "      <th>3</th>\n",
              "      <td>(origins, edition))</td>\n",
              "      <td>97</td>\n",
              "    </tr>\n",
              "    <tr>\n",
              "      <th>4</th>\n",
              "      <td>(#ps4live, (overwatch:)</td>\n",
              "      <td>96</td>\n",
              "    </tr>\n",
              "    <tr>\n",
              "      <th>5</th>\n",
              "      <td>(edition), live)</td>\n",
              "      <td>94</td>\n",
              "    </tr>\n",
              "    <tr>\n",
              "      <th>6</th>\n",
              "      <td>(check, broadcast)</td>\n",
              "      <td>88</td>\n",
              "    </tr>\n",
              "    <tr>\n",
              "      <th>7</th>\n",
              "      <td>(broadcast, playstation)</td>\n",
              "      <td>87</td>\n",
              "    </tr>\n",
              "    <tr>\n",
              "      <th>8</th>\n",
              "      <td>(playstation, 4!)</td>\n",
              "      <td>87</td>\n",
              "    </tr>\n",
              "    <tr>\n",
              "      <th>9</th>\n",
              "      <td>(4!, #ps4live)</td>\n",
              "      <td>87</td>\n",
              "    </tr>\n",
              "    <tr>\n",
              "      <th>10</th>\n",
              "      <td>(overwatch, 2)</td>\n",
              "      <td>62</td>\n",
              "    </tr>\n",
              "    <tr>\n",
              "      <th>11</th>\n",
              "      <td>(valentine's, day)</td>\n",
              "      <td>46</td>\n",
              "    </tr>\n",
              "    <tr>\n",
              "      <th>12</th>\n",
              "      <td>(valentine’s, day)</td>\n",
              "      <td>38</td>\n",
              "    </tr>\n",
              "    <tr>\n",
              "      <th>13</th>\n",
              "      <td>(streaming, overwatch)</td>\n",
              "      <td>36</td>\n",
              "    </tr>\n",
              "    <tr>\n",
              "      <th>14</th>\n",
              "      <td>(played, overwatch)</td>\n",
              "      <td>33</td>\n",
              "    </tr>\n",
              "    <tr>\n",
              "      <th>15</th>\n",
              "      <td>(valentines, day)</td>\n",
              "      <td>32</td>\n",
              "    </tr>\n",
              "    <tr>\n",
              "      <th>16</th>\n",
              "      <td>(happy, valentine's)</td>\n",
              "      <td>29</td>\n",
              "    </tr>\n",
              "    <tr>\n",
              "      <th>17</th>\n",
              "      <td>(wanna, play)</td>\n",
              "      <td>26</td>\n",
              "    </tr>\n",
              "    <tr>\n",
              "      <th>18</th>\n",
              "      <td>(overwatch, first)</td>\n",
              "      <td>24</td>\n",
              "    </tr>\n",
              "    <tr>\n",
              "      <th>19</th>\n",
              "      <td>(overwatch, players)</td>\n",
              "      <td>24</td>\n",
              "    </tr>\n",
              "  </tbody>\n",
              "</table>\n",
              "</div>"
            ],
            "text/plain": [
              "                      bigram  count\n",
              "0          (play, overwatch)    196\n",
              "1       (playing, overwatch)    186\n",
              "2     ((overwatch:, origins)     97\n",
              "3        (origins, edition))     97\n",
              "4    (#ps4live, (overwatch:)     96\n",
              "5           (edition), live)     94\n",
              "6         (check, broadcast)     88\n",
              "7   (broadcast, playstation)     87\n",
              "8          (playstation, 4!)     87\n",
              "9             (4!, #ps4live)     87\n",
              "10            (overwatch, 2)     62\n",
              "11        (valentine's, day)     46\n",
              "12        (valentine’s, day)     38\n",
              "13    (streaming, overwatch)     36\n",
              "14       (played, overwatch)     33\n",
              "15         (valentines, day)     32\n",
              "16      (happy, valentine's)     29\n",
              "17             (wanna, play)     26\n",
              "18        (overwatch, first)     24\n",
              "19      (overwatch, players)     24"
            ]
          },
          "metadata": {
            "tags": []
          },
          "execution_count": 10
        }
      ]
    },
    {
      "cell_type": "code",
      "metadata": {
        "id": "rOLokY4jqTHx"
      },
      "source": [
        "api.update_status()"
      ],
      "execution_count": null,
      "outputs": []
    },
    {
      "cell_type": "markdown",
      "metadata": {
        "id": "7KFQ3RUYLB1Q"
      },
      "source": [
        "# Análise dos Sentimentos\n",
        "Os objetos do Sentimento"
      ]
    },
    {
      "cell_type": "code",
      "metadata": {
        "colab": {
          "base_uri": "https://localhost:8080/"
        },
        "id": "sXGBusTDLEtq",
        "outputId": "10edde03-735b-41d6-ea95-cec127aa08c9"
      },
      "source": [
        "sentiment_objects = [TextBlob(tweet) for tweet in tweets_no_urls]\n",
        "\n",
        "sentiment_objects[0].polarity, sentiment_objects[:5]"
      ],
      "execution_count": null,
      "outputs": [
        {
          "output_type": "execute_result",
          "data": {
            "text/plain": [
              "(-0.7142857142857143,\n",
              " [TextBlob(\"@arcanemagi i got sick of moicy 6 months into overwatch 💀💀💀 im sick of moira being mercy’s dyke and nothing else. t… \"),\n",
              "  TextBlob(\"Overwatch Uncovered by Overwolf XD \"),\n",
              "  TextBlob(\"🔸BENKEIS! now streaming on Twitch! Playing \n",
              "  #twitch\n",
              "  \n",
              "  Overwatch  \"),\n",
              "  TextBlob(\"me remembering how i conditioned my voice to sound deeper and raspier on overwatch voice coms so i wouldnt be haras… \"),\n",
              "  TextBlob(\"#MatteoHS is now streaming #Overwatch \")])"
            ]
          },
          "metadata": {
            "tags": []
          },
          "execution_count": 11
        }
      ]
    },
    {
      "cell_type": "markdown",
      "metadata": {
        "id": "YqyauqKeLQ3i"
      },
      "source": [
        "Valores de sentimento"
      ]
    },
    {
      "cell_type": "code",
      "metadata": {
        "colab": {
          "base_uri": "https://localhost:8080/"
        },
        "id": "A4UNBoInLNQn",
        "outputId": "831dafb7-e43c-42cd-c270-b72bab03423b"
      },
      "source": [
        "sentiment_values = [[tweet.sentiment.polarity, str(tweet)] for tweet in sentiment_objects]\n",
        "\n",
        "sentiment_values[:5]"
      ],
      "execution_count": null,
      "outputs": [
        {
          "output_type": "execute_result",
          "data": {
            "text/plain": [
              "[[-0.7142857142857143,\n",
              "  '@arcanemagi i got sick of moicy 6 months into overwatch 💀💀💀 im sick of moira being mercy’s dyke and nothing else. t… '],\n",
              " [0.0, 'Overwatch Uncovered by Overwolf XD '],\n",
              " [0.0, '🔸BENKEIS! now streaming on Twitch! Playing \\n#twitch\\n\\nOverwatch  '],\n",
              " [0.4,\n",
              "  'me remembering how i conditioned my voice to sound deeper and raspier on overwatch voice coms so i wouldnt be haras… '],\n",
              " [0.0, '#MatteoHS is now streaming #Overwatch ']]"
            ]
          },
          "metadata": {
            "tags": []
          },
          "execution_count": 12
        }
      ]
    },
    {
      "cell_type": "code",
      "metadata": {
        "colab": {
          "base_uri": "https://localhost:8080/",
          "height": 206
        },
        "id": "iGqyArc8L8aB",
        "outputId": "913a897c-cc4e-488e-e0d2-cfeaac68b4e7"
      },
      "source": [
        "sentiment_df = pd.DataFrame(sentiment_values, columns=[\"polarity\", \"tweet\"])\n",
        "\n",
        "sentiment_df.head()"
      ],
      "execution_count": null,
      "outputs": [
        {
          "output_type": "execute_result",
          "data": {
            "text/html": [
              "<div>\n",
              "<style scoped>\n",
              "    .dataframe tbody tr th:only-of-type {\n",
              "        vertical-align: middle;\n",
              "    }\n",
              "\n",
              "    .dataframe tbody tr th {\n",
              "        vertical-align: top;\n",
              "    }\n",
              "\n",
              "    .dataframe thead th {\n",
              "        text-align: right;\n",
              "    }\n",
              "</style>\n",
              "<table border=\"1\" class=\"dataframe\">\n",
              "  <thead>\n",
              "    <tr style=\"text-align: right;\">\n",
              "      <th></th>\n",
              "      <th>polarity</th>\n",
              "      <th>tweet</th>\n",
              "    </tr>\n",
              "  </thead>\n",
              "  <tbody>\n",
              "    <tr>\n",
              "      <th>0</th>\n",
              "      <td>-0.714286</td>\n",
              "      <td>@arcanemagi i got sick of moicy 6 months into overwatch 💀💀💀 im sick of moira being mercy’s dyke and nothing else. t…</td>\n",
              "    </tr>\n",
              "    <tr>\n",
              "      <th>1</th>\n",
              "      <td>0.000000</td>\n",
              "      <td>Overwatch Uncovered by Overwolf XD</td>\n",
              "    </tr>\n",
              "    <tr>\n",
              "      <th>2</th>\n",
              "      <td>0.000000</td>\n",
              "      <td>🔸BENKEIS! now streaming on Twitch! Playing \\n#twitch\\n\\nOverwatch</td>\n",
              "    </tr>\n",
              "    <tr>\n",
              "      <th>3</th>\n",
              "      <td>0.400000</td>\n",
              "      <td>me remembering how i conditioned my voice to sound deeper and raspier on overwatch voice coms so i wouldnt be haras…</td>\n",
              "    </tr>\n",
              "    <tr>\n",
              "      <th>4</th>\n",
              "      <td>0.000000</td>\n",
              "      <td>#MatteoHS is now streaming #Overwatch</td>\n",
              "    </tr>\n",
              "  </tbody>\n",
              "</table>\n",
              "</div>"
            ],
            "text/plain": [
              "   polarity                                                                                                                  tweet\n",
              "0 -0.714286  @arcanemagi i got sick of moicy 6 months into overwatch 💀💀💀 im sick of moira being mercy’s dyke and nothing else. t… \n",
              "1  0.000000                                                                                    Overwatch Uncovered by Overwolf XD \n",
              "2  0.000000                                                    🔸BENKEIS! now streaming on Twitch! Playing \\n#twitch\\n\\nOverwatch  \n",
              "3  0.400000  me remembering how i conditioned my voice to sound deeper and raspier on overwatch voice coms so i wouldnt be haras… \n",
              "4  0.000000                                                                                 #MatteoHS is now streaming #Overwatch "
            ]
          },
          "metadata": {
            "tags": []
          },
          "execution_count": 13
        }
      ]
    },
    {
      "cell_type": "markdown",
      "metadata": {
        "id": "hDGxJ5uZMCDZ"
      },
      "source": [
        "# Exposição de dados do Sentimento"
      ]
    },
    {
      "cell_type": "code",
      "metadata": {
        "colab": {
          "base_uri": "https://localhost:8080/",
          "height": 390
        },
        "id": "_OGPSs-_MF3R",
        "outputId": "f3901a24-12ad-4dbe-a9ab-79b7a9a3e901"
      },
      "source": [
        "fig, ax = plt.subplots(figsize=(8, 6))\n",
        "\n",
        "# Plot histogram of the polarity values\n",
        "sentiment_df.hist(bins=[-1, -0.75, -0.5, -0.25, 0.25, 0.5, 0.75, 1],\n",
        "             ax=ax,\n",
        "             color=\"purple\")\n",
        "\n",
        "plt.title(\"Sentiments from Tweets on \"+search_words[:-16])\n",
        "plt.show()"
      ],
      "execution_count": null,
      "outputs": [
        {
          "output_type": "display_data",
          "data": {
            "image/png": "[encoded data removed]",
            "text/plain": [
              "<Figure size 576x432 with 1 Axes>"
            ]
          },
          "metadata": {
            "tags": [],
            "needs_background": "light"
          }
        }
      ]
    },
    {
      "cell_type": "markdown",
      "metadata": {
        "id": "-sYBRMIOMYtF"
      },
      "source": [
        "Porém, precisamos remover aqueles que possuem sentimento de 0, e criamos um histograma com uma 'quebra' no 0."
      ]
    },
    {
      "cell_type": "code",
      "metadata": {
        "colab": {
          "base_uri": "https://localhost:8080/",
          "height": 390
        },
        "id": "W4VXf4L4MVix",
        "outputId": "dadd319d-be22-4a68-cbcd-3e0f73ff7c0c"
      },
      "source": [
        "sentiment_df = sentiment_df[sentiment_df.polarity != 0]\n",
        "\n",
        "fig, ax = plt.subplots(figsize=(8, 6))\n",
        "\n",
        "sentiment_df.hist(bins=[-1, -0.75, -0.5, -0.25, 0.0, 0.25, 0.5, 0.75, 1],\n",
        "             ax=ax,\n",
        "             color=\"purple\")\n",
        "\n",
        "plt.title(\"Sentiments from Tweets on \"+search_words[:-16])\n",
        "plt.show()\n"
      ],
      "execution_count": null,
      "outputs": [
        {
          "output_type": "display_data",
          "data": {
            "image/png": "[encoded data removed]",
            "text/plain": [
              "<Figure size 576x432 with 1 Axes>"
            ]
          },
          "metadata": {
            "tags": [],
            "needs_background": "light"
          }
        }
      ]
    },
    {
      "cell_type": "markdown",
      "metadata": {
        "id": "40qvUqqVxjry"
      },
      "source": [
        "Agora, tendo o histograma em mãos, podemos classificar os dados dos sentimentos. Para este, dividimos que aqueles entre -1,1 e 0 são iguais a 0, ou seja, são negativos, e aqueles entre 0 e 1,1 são iguais a 1, ou seja, positivos."
      ]
    },
    {
      "cell_type": "code",
      "metadata": {
        "colab": {
          "base_uri": "https://localhost:8080/",
          "height": 206
        },
        "id": "CfCeAxz4m2Hx",
        "outputId": "3c804c9d-c5d3-4848-dbd2-1a29b3cad3fa"
      },
      "source": [
        "bins = [-1.1, 0, 1.1]\n",
        "label_names = [0, 1]\n",
        "\n",
        "sentiment_df['positive'] = pd.cut(sentiment_df['polarity'], bins, labels=label_names)\n",
        "sentiment_df.head()"
      ],
      "execution_count": null,
      "outputs": [
        {
          "output_type": "execute_result",
          "data": {
            "text/html": [
              "<div>\n",
              "<style scoped>\n",
              "    .dataframe tbody tr th:only-of-type {\n",
              "        vertical-align: middle;\n",
              "    }\n",
              "\n",
              "    .dataframe tbody tr th {\n",
              "        vertical-align: top;\n",
              "    }\n",
              "\n",
              "    .dataframe thead th {\n",
              "        text-align: right;\n",
              "    }\n",
              "</style>\n",
              "<table border=\"1\" class=\"dataframe\">\n",
              "  <thead>\n",
              "    <tr style=\"text-align: right;\">\n",
              "      <th></th>\n",
              "      <th>polarity</th>\n",
              "      <th>tweet</th>\n",
              "      <th>positive</th>\n",
              "    </tr>\n",
              "  </thead>\n",
              "  <tbody>\n",
              "    <tr>\n",
              "      <th>0</th>\n",
              "      <td>-0.714286</td>\n",
              "      <td>@arcanemagi i got sick of moicy 6 months into overwatch 💀💀💀 im sick of moira being mercy’s dyke and nothing else. t…</td>\n",
              "      <td>0</td>\n",
              "    </tr>\n",
              "    <tr>\n",
              "      <th>3</th>\n",
              "      <td>0.400000</td>\n",
              "      <td>me remembering how i conditioned my voice to sound deeper and raspier on overwatch voice coms so i wouldnt be haras…</td>\n",
              "      <td>1</td>\n",
              "    </tr>\n",
              "    <tr>\n",
              "      <th>7</th>\n",
              "      <td>0.144167</td>\n",
              "      <td>@vsobudula @ntsikimazwai Very true my sister. The system has created conditions for black men and women to be at lo…</td>\n",
              "      <td>1</td>\n",
              "    </tr>\n",
              "    <tr>\n",
              "      <th>9</th>\n",
              "      <td>0.068182</td>\n",
              "      <td>New Overwatch character idea, Domefist, his ULT is that every female character in the vicinity has to give him dome</td>\n",
              "      <td>1</td>\n",
              "    </tr>\n",
              "    <tr>\n",
              "      <th>10</th>\n",
              "      <td>0.160000</td>\n",
              "      <td>@authenticnoob05 @Freakygamerfan_ That says Sky High. Y’know, the  Overwatch song?</td>\n",
              "      <td>1</td>\n",
              "    </tr>\n",
              "  </tbody>\n",
              "</table>\n",
              "</div>"
            ],
            "text/plain": [
              "    polarity  ... positive\n",
              "0  -0.714286  ...        0\n",
              "3   0.400000  ...        1\n",
              "7   0.144167  ...        1\n",
              "9   0.068182  ...        1\n",
              "10  0.160000  ...        1\n",
              "\n",
              "[5 rows x 3 columns]"
            ]
          },
          "metadata": {
            "tags": []
          },
          "execution_count": 16
        }
      ]
    },
    {
      "cell_type": "markdown",
      "metadata": {
        "id": "BJtyK_0fxi1r"
      },
      "source": [
        "#Configuração da IA\n",
        "Agora, configuramos a IA. Para tal, utilizaremos o Tokenizer para tokenizar as palavras, e classificá-las para gerar a nossa IA."
      ]
    },
    {
      "cell_type": "code",
      "metadata": {
        "colab": {
          "base_uri": "https://localhost:8080/"
        },
        "id": "BXCVifc3qLUS",
        "outputId": "0163e374-0d08-40f6-ab60-0737dddd43d8"
      },
      "source": [
        "tokenizer = Tokenizer()\n",
        "tweet_list = sentiment_df['tweet'].astype('str').tolist()\n",
        "tokenizer.fit_on_texts(tweet_list)\n",
        "\n",
        "total_words = len(tokenizer.word_index) + 1\n",
        "total_words"
      ],
      "execution_count": null,
      "outputs": [
        {
          "output_type": "execute_result",
          "data": {
            "text/plain": [
              "6212"
            ]
          },
          "metadata": {
            "tags": []
          },
          "execution_count": 17
        }
      ]
    },
    {
      "cell_type": "markdown",
      "metadata": {
        "id": "1wtd--k9DTRO"
      },
      "source": [
        "Sequências de input utilizando a lista de tokens"
      ]
    },
    {
      "cell_type": "code",
      "metadata": {
        "id": "MqKdNjhPDAId"
      },
      "source": [
        "input_sequences = []\n",
        "for tweet in tweet_list:\n",
        " token_list = tokenizer.texts_to_sequences([tweet])[0]\n",
        " for i in range(1, len(token_list)):\n",
        "  n_gram_sequence = token_list[:i+1]\n",
        "  input_sequences.append(n_gram_sequence)"
      ],
      "execution_count": null,
      "outputs": []
    },
    {
      "cell_type": "code",
      "metadata": {
        "id": "O-KxLkdjDSsL"
      },
      "source": [
        "max_sequence_len = max([len(x) for x in input_sequences])\n",
        "input_sequences = np.array(pad_sequences(input_sequences, maxlen=max_sequence_len, padding='pre'))"
      ],
      "execution_count": null,
      "outputs": []
    },
    {
      "cell_type": "markdown",
      "metadata": {
        "id": "fh5KXmCwEdwx"
      },
      "source": [
        "Cria-se o previsor de palavras. Nesse caso, utiliza-se um LSTM (Long Short-term Memory), visto que este acaba por considerar a frase inteira que já foi obtida no seu resultado."
      ]
    },
    {
      "cell_type": "code",
      "metadata": {
        "colab": {
          "base_uri": "https://localhost:8080/"
        },
        "id": "cQMNlzyxD50J",
        "outputId": "d47b4292-49c8-4ca7-f478-4fe60f1070cb"
      },
      "source": [
        "predictors, label = input_sequences[:,:-1],input_sequences[:,-1]\n",
        "label = ku.to_categorical(label, num_classes=total_words)\n",
        "\n",
        "model = Sequential()\n",
        "model.add(Embedding(total_words, 100, input_length=max_sequence_len-1))\n",
        "model.add(Bidirectional(LSTM(150, return_sequences = True)))\n",
        "model.add(Dropout(0.2))\n",
        "model.add(LSTM(100))\n",
        "model.add(Dense(total_words/2, activation='relu', kernel_regularizer=regularizers.l2(0.01)))\n",
        "model.add(Dense(total_words, activation='softmax'))\n",
        "model.compile(loss='categorical_crossentropy', optimizer='adam', metrics=['accuracy'])\n",
        "model.summary()"
      ],
      "execution_count": null,
      "outputs": [
        {
          "output_type": "stream",
          "text": [
            "Model: \"sequential\"\n",
            "_________________________________________________________________\n",
            "Layer (type)                 Output Shape              Param #   \n",
            "=================================================================\n",
            "embedding (Embedding)        (None, 29, 100)           621200    \n",
            "_________________________________________________________________\n",
            "bidirectional (Bidirectional (None, 29, 300)           301200    \n",
            "_________________________________________________________________\n",
            "dropout (Dropout)            (None, 29, 300)           0         \n",
            "_________________________________________________________________\n",
            "lstm_1 (LSTM)                (None, 100)               160400    \n",
            "_________________________________________________________________\n",
            "dense (Dense)                (None, 3106)              313706    \n",
            "_________________________________________________________________\n",
            "dense_1 (Dense)              (None, 6212)              19300684  \n",
            "=================================================================\n",
            "Total params: 20,697,190\n",
            "Trainable params: 20,697,190\n",
            "Non-trainable params: 0\n",
            "_________________________________________________________________\n"
          ],
          "name": "stdout"
        }
      ]
    },
    {
      "cell_type": "code",
      "metadata": {
        "colab": {
          "base_uri": "https://localhost:8080/"
        },
        "id": "5LRokmFBIQJc",
        "outputId": "d82378bf-094e-4f3b-c2bd-9effdebba869"
      },
      "source": [
        "history = model.fit(predictors, label, epochs=50, verbose=1)"
      ],
      "execution_count": null,
      "outputs": [
        {
          "output_type": "stream",
          "text": [
            "Epoch 1/50\n",
            "1072/1072 [==============================] - 358s 334ms/step - loss: 6.3213 - accuracy: 0.0708\n",
            "Epoch 2/50\n",
            "1072/1072 [==============================] - 358s 334ms/step - loss: 6.1524 - accuracy: 0.0908\n",
            "Epoch 3/50\n",
            "1072/1072 [==============================] - 353s 329ms/step - loss: 6.0214 - accuracy: 0.0994\n",
            "Epoch 4/50\n",
            "1072/1072 [==============================] - 340s 317ms/step - loss: 5.9065 - accuracy: 0.1081\n",
            "Epoch 5/50\n",
            "1072/1072 [==============================] - 331s 309ms/step - loss: 5.8086 - accuracy: 0.1133\n",
            "Epoch 6/50\n",
            "1072/1072 [==============================] - 329s 307ms/step - loss: 5.7118 - accuracy: 0.1200\n",
            "Epoch 7/50\n",
            "1072/1072 [==============================] - 329s 307ms/step - loss: 5.6228 - accuracy: 0.1267\n",
            "Epoch 8/50\n",
            "1072/1072 [==============================] - 336s 313ms/step - loss: 5.5349 - accuracy: 0.1324\n",
            "Epoch 9/50\n",
            "1072/1072 [==============================] - 341s 319ms/step - loss: 5.4520 - accuracy: 0.1382\n",
            "Epoch 10/50\n",
            "1072/1072 [==============================] - 350s 327ms/step - loss: 5.3688 - accuracy: 0.1435\n",
            "Epoch 11/50\n",
            "1072/1072 [==============================] - 366s 342ms/step - loss: 5.2887 - accuracy: 0.1504\n",
            "Epoch 12/50\n",
            "1072/1072 [==============================] - 359s 335ms/step - loss: 5.2095 - accuracy: 0.1558\n",
            "Epoch 13/50\n",
            "1072/1072 [==============================] - 366s 341ms/step - loss: 5.1309 - accuracy: 0.1616\n",
            "Epoch 14/50\n",
            "1072/1072 [==============================] - 369s 344ms/step - loss: 5.0607 - accuracy: 0.1666\n",
            "Epoch 15/50\n",
            "1072/1072 [==============================] - 337s 314ms/step - loss: 4.9898 - accuracy: 0.1724\n",
            "Epoch 16/50\n",
            "1072/1072 [==============================] - 347s 323ms/step - loss: 4.9264 - accuracy: 0.1760\n",
            "Epoch 17/50\n",
            "1072/1072 [==============================] - 343s 320ms/step - loss: 4.8591 - accuracy: 0.1804\n",
            "Epoch 18/50\n",
            "1072/1072 [==============================] - 334s 312ms/step - loss: 4.7946 - accuracy: 0.1851\n",
            "Epoch 19/50\n",
            "1072/1072 [==============================] - 351s 328ms/step - loss: 4.7315 - accuracy: 0.1910\n",
            "Epoch 20/50\n",
            "1072/1072 [==============================] - 338s 315ms/step - loss: 4.6703 - accuracy: 0.1965\n",
            "Epoch 21/50\n",
            "1072/1072 [==============================] - 353s 329ms/step - loss: 4.6036 - accuracy: 0.2013\n",
            "Epoch 22/50\n",
            "1072/1072 [==============================] - 358s 334ms/step - loss: 4.5468 - accuracy: 0.2065\n",
            "Epoch 23/50\n",
            "1072/1072 [==============================] - 364s 339ms/step - loss: 4.4893 - accuracy: 0.2101\n",
            "Epoch 24/50\n",
            "1072/1072 [==============================] - 332s 310ms/step - loss: 4.4263 - accuracy: 0.2146\n",
            "Epoch 25/50\n",
            "1072/1072 [==============================] - 331s 309ms/step - loss: 4.3634 - accuracy: 0.2204\n",
            "Epoch 26/50\n",
            "1072/1072 [==============================] - 324s 302ms/step - loss: 4.3063 - accuracy: 0.2280\n",
            "Epoch 27/50\n",
            "1072/1072 [==============================] - 351s 327ms/step - loss: 4.2428 - accuracy: 0.2315\n",
            "Epoch 28/50\n",
            "1072/1072 [==============================] - 364s 339ms/step - loss: 4.1907 - accuracy: 0.2367\n",
            "Epoch 29/50\n",
            "1072/1072 [==============================] - 361s 337ms/step - loss: 4.1321 - accuracy: 0.2426\n",
            "Epoch 30/50\n",
            "1072/1072 [==============================] - 350s 327ms/step - loss: 4.0755 - accuracy: 0.2479\n",
            "Epoch 31/50\n",
            "1072/1072 [==============================] - 349s 326ms/step - loss: 4.0206 - accuracy: 0.2527\n",
            "Epoch 32/50\n",
            "1072/1072 [==============================] - 351s 327ms/step - loss: 3.9678 - accuracy: 0.2589\n",
            "Epoch 33/50\n",
            "1072/1072 [==============================] - 339s 316ms/step - loss: 3.9150 - accuracy: 0.2647\n",
            "Epoch 34/50\n",
            "1072/1072 [==============================] - 343s 320ms/step - loss: 3.8610 - accuracy: 0.2705\n",
            "Epoch 35/50\n",
            "1072/1072 [==============================] - 339s 316ms/step - loss: 3.8047 - accuracy: 0.2780\n",
            "Epoch 36/50\n",
            "1072/1072 [==============================] - 338s 315ms/step - loss: 3.7570 - accuracy: 0.2849\n",
            "Epoch 37/50\n",
            "1072/1072 [==============================] - 347s 324ms/step - loss: 3.7042 - accuracy: 0.2911\n",
            "Epoch 38/50\n",
            "1072/1072 [==============================] - 370s 345ms/step - loss: 3.6547 - accuracy: 0.2992\n",
            "Epoch 39/50\n",
            "1072/1072 [==============================] - 356s 332ms/step - loss: 3.6056 - accuracy: 0.3073\n",
            "Epoch 40/50\n",
            "1072/1072 [==============================] - 365s 341ms/step - loss: 3.5578 - accuracy: 0.3143\n",
            "Epoch 41/50\n",
            "1072/1072 [==============================] - 367s 343ms/step - loss: 3.5114 - accuracy: 0.3216\n",
            "Epoch 42/50\n",
            "1072/1072 [==============================] - 358s 334ms/step - loss: 3.4638 - accuracy: 0.3291\n",
            "Epoch 43/50\n",
            "1072/1072 [==============================] - 356s 332ms/step - loss: 3.4254 - accuracy: 0.3348\n",
            "Epoch 44/50\n",
            "1072/1072 [==============================] - 361s 337ms/step - loss: 3.3725 - accuracy: 0.3421\n",
            "Epoch 45/50\n",
            "1072/1072 [==============================] - 358s 334ms/step - loss: 3.3249 - accuracy: 0.3525\n",
            "Epoch 46/50\n",
            "1072/1072 [==============================] - 363s 338ms/step - loss: 3.2883 - accuracy: 0.3571\n",
            "Epoch 47/50\n",
            "1072/1072 [==============================] - 349s 326ms/step - loss: 3.2502 - accuracy: 0.3637\n",
            "Epoch 48/50\n",
            "1072/1072 [==============================] - 365s 340ms/step - loss: 3.2076 - accuracy: 0.3715\n",
            "Epoch 49/50\n",
            "1072/1072 [==============================] - 343s 320ms/step - loss: 3.1607 - accuracy: 0.3785\n",
            "Epoch 50/50\n",
            "1072/1072 [==============================] - 346s 323ms/step - loss: 3.1261 - accuracy: 0.3856\n"
          ],
          "name": "stdout"
        }
      ]
    },
    {
      "cell_type": "markdown",
      "metadata": {
        "id": "s_Hs1eccTg_M"
      },
      "source": [
        "# Resultado\n",
        "Aqui, por último, encontra-se o gerador de texto. Para isto, ele faz uma previsão de palavra-por-palavra para decidir o que será a próxima palavra baseado nos dados obtidos do twitter."
      ]
    },
    {
      "cell_type": "code",
      "metadata": {
        "colab": {
          "base_uri": "https://localhost:8080/"
        },
        "id": "yshc1IhJQ42h",
        "outputId": "325d8506-a6e6-4f8e-c375-945fe3ef9f54"
      },
      "source": [
        "seed_text = input(\"Escolha a seed to tweet a ser gerado: \")\n",
        "next_words = np.random.randint(20)\n",
        "print(str(next_words+1)+\" palavras\")\n",
        "  \n",
        "for _ in range(next_words):\n",
        " token_list = tokenizer.texts_to_sequences([seed_text])[0]\n",
        " token_list = pad_sequences([token_list], maxlen=max_sequence_len-1, padding='pre')\n",
        " predicted = np.argmax(model.predict(token_list), axis=-1)\n",
        " output_word = \"\"\n",
        " for word, index in tokenizer.word_index.items():\n",
        "  if index == predicted:\n",
        "   output_word = word\n",
        "   break\n",
        " seed_text += \" \" + output_word\n",
        "print(seed_text)"
      ],
      "execution_count": null,
      "outputs": [
        {
          "output_type": "stream",
          "text": [
            "Escolha a seed to tweet a ser gerado: overwatch\n",
            "2 palavras\n",
            "overwatch is\n"
          ],
          "name": "stdout"
        }
      ]
    },
    {
      "cell_type": "code",
      "metadata": {
        "id": "LM8-6TYI4odK"
      },
      "source": [
        "while True:pass"
      ],
      "execution_count": null,
      "outputs": []
    }
  ]
}